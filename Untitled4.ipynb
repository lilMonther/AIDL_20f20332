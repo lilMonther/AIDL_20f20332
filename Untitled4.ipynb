{
  "nbformat": 4,
  "nbformat_minor": 0,
  "metadata": {
    "colab": {
      "provenance": []
    },
    "kernelspec": {
      "name": "python3",
      "display_name": "Python 3"
    },
    "language_info": {
      "name": "python"
    }
  },
  "cells": [
    {
      "cell_type": "code",
      "execution_count": 1,
      "metadata": {
        "colab": {
          "base_uri": "https://localhost:8080/"
        },
        "id": "XCawrUSnvbI1",
        "outputId": "417da6cb-0a3b-403c-a8b4-8c3685236bf1"
      },
      "outputs": [
        {
          "output_type": "stream",
          "name": "stdout",
          "text": [
            "Mounted at /content/drive\n"
          ]
        }
      ],
      "source": [
        "from google.colab import drive\n",
        "drive.mount('/content/drive', force_remount=True)"
      ]
    },
    {
      "cell_type": "code",
      "source": [
        "train_dir = '/content/drive/MyDrive/training'\n",
        "test_dir = '/content/drive/MyDrive/testing'"
      ],
      "metadata": {
        "id": "4NqYn5M1v1y0"
      },
      "execution_count": 2,
      "outputs": []
    },
    {
      "cell_type": "code",
      "source": [
        "import os\n",
        "print(len(os.listdir('/content/drive/MyDrive/Dataset file/training/cars')))\n",
        "print(len(os.listdir('/content/drive/MyDrive/Dataset file/training/bike')))\n",
        "print(len(os.listdir('/content/drive/MyDrive/Dataset file/testing/cars')))\n",
        "print(len(os.listdir('/content/drive/MyDrive/Dataset file/testing/bike')))"
      ],
      "metadata": {
        "colab": {
          "base_uri": "https://localhost:8080/"
        },
        "id": "dKy1Uf3ZwCdz",
        "outputId": "a8ab2b01-f719-4150-8ab0-2804ac4bbccc"
      },
      "execution_count": 3,
      "outputs": [
        {
          "output_type": "stream",
          "name": "stdout",
          "text": [
            "500\n",
            "496\n",
            "30\n",
            "30\n"
          ]
        }
      ]
    },
    {
      "cell_type": "code",
      "source": [
        "import tensorflow as tf\n",
        "from tensorflow.keras.preprocessing.image import ImageDataGenerator\n",
        "train_dir = '/content/drive/MyDrive/Dataset file/training'\n",
        "\n",
        "train_datagen = ImageDataGenerator(\n",
        "    rescale=1./255,\n",
        "    validation_split=0.2\n",
        ")\n",
        "\n",
        "\n",
        "train_data = train_datagen.flow_from_directory(\n",
        "    train_dir,\n",
        "    target_size=(256,256),\n",
        "    batch_size=32,\n",
        "    class_mode='binary',\n",
        "    subset='training'\n",
        ")\n",
        "\n",
        "\n",
        "validation_datagen = ImageDataGenerator(\n",
        "    rescale=1./255,\n",
        "    validation_split=0.2\n",
        ")\n",
        "validation_data = validation_datagen.flow_from_directory(\n",
        "    train_dir,\n",
        "    target_size=(256,256),\n",
        "    batch_size=32,\n",
        "    class_mode='binary',\n",
        "    subset='validation'\n",
        ")"
      ],
      "metadata": {
        "colab": {
          "base_uri": "https://localhost:8080/"
        },
        "id": "3aa_2DGGwGMN",
        "outputId": "25ca0369-a92c-4cf8-ec5c-3a7a11c6d864"
      },
      "execution_count": 4,
      "outputs": [
        {
          "output_type": "stream",
          "name": "stdout",
          "text": [
            "Found 797 images belonging to 2 classes.\n",
            "Found 199 images belonging to 2 classes.\n"
          ]
        }
      ]
    },
    {
      "cell_type": "code",
      "source": [
        "from tensorflow import keras\n",
        "from keras import Sequential\n",
        "from keras.layers import Dense,Conv2D,MaxPooling2D,Flatten\n",
        "\n",
        "resnet_model = Sequential()    #ResNet50 is a pre-trained model\n",
        "pretrained_model = tf.keras.applications.ResNet50(include_top = False, #because i have my own image of a diff dimension\n",
        "                                                input_shape = (256,256,3),\n",
        "                                                pooling = 'max', classes = 2,\n",
        "                                                weights = 'imagenet')\n",
        "for layer in pretrained_model.layers:\n",
        "    layer.trainable = False  #all layers in the Resnet50 is not trainable; keep those weights; I am going to add my own i/p and other layers\n",
        "\n",
        "resnet_model.add(pretrained_model)\n",
        "resnet_model.add(Flatten())\n",
        "resnet_model.add(Dense(512, activation = 'relu'))\n",
        "resnet_model.add(Dense(1, activation = 'sigmoid'))"
      ],
      "metadata": {
        "colab": {
          "base_uri": "https://localhost:8080/"
        },
        "id": "4zcVWeG_wgId",
        "outputId": "a61985b5-72fc-4650-ca11-4992943cbeb7"
      },
      "execution_count": 5,
      "outputs": [
        {
          "output_type": "stream",
          "name": "stdout",
          "text": [
            "Downloading data from https://storage.googleapis.com/tensorflow/keras-applications/resnet/resnet50_weights_tf_dim_ordering_tf_kernels_notop.h5\n",
            "94765736/94765736 [==============================] - 1s 0us/step\n"
          ]
        }
      ]
    },
    {
      "cell_type": "code",
      "source": [
        "resnet_model.summary()"
      ],
      "metadata": {
        "colab": {
          "base_uri": "https://localhost:8080/"
        },
        "id": "5aW-b-iUwqYJ",
        "outputId": "6281cca4-f799-4c47-b814-93bac14493e9"
      },
      "execution_count": 6,
      "outputs": [
        {
          "output_type": "stream",
          "name": "stdout",
          "text": [
            "Model: \"sequential\"\n",
            "_________________________________________________________________\n",
            " Layer (type)                Output Shape              Param #   \n",
            "=================================================================\n",
            " resnet50 (Functional)       (None, 2048)              23587712  \n",
            "                                                                 \n",
            " flatten (Flatten)           (None, 2048)              0         \n",
            "                                                                 \n",
            " dense (Dense)               (None, 512)               1049088   \n",
            "                                                                 \n",
            " dense_1 (Dense)             (None, 1)                 513       \n",
            "                                                                 \n",
            "=================================================================\n",
            "Total params: 24637313 (93.98 MB)\n",
            "Trainable params: 1049601 (4.00 MB)\n",
            "Non-trainable params: 23587712 (89.98 MB)\n",
            "_________________________________________________________________\n"
          ]
        }
      ]
    },
    {
      "cell_type": "code",
      "source": [
        "from keras.optimizers import Adam\n",
        "resnet_model.compile(optimizer=Adam(learning_rate=0.001),loss='binary_crossentropy',metrics=['accuracy'])"
      ],
      "metadata": {
        "id": "fFU29FMiwwY7"
      },
      "execution_count": 7,
      "outputs": []
    },
    {
      "cell_type": "code",
      "source": [
        "history = resnet_model.fit(train_data, epochs=3, validation_data=validation_data)"
      ],
      "metadata": {
        "colab": {
          "base_uri": "https://localhost:8080/"
        },
        "id": "ooMu_xs2w4Z8",
        "outputId": "aa747340-a706-4919-9934-a8269a1c7a64"
      },
      "execution_count": 8,
      "outputs": [
        {
          "output_type": "stream",
          "name": "stdout",
          "text": [
            "Epoch 1/3\n",
            " 6/25 [======>.......................] - ETA: 3:29 - loss: 2.6180 - accuracy: 0.6302"
          ]
        },
        {
          "output_type": "stream",
          "name": "stderr",
          "text": [
            "/usr/local/lib/python3.10/dist-packages/PIL/Image.py:996: UserWarning: Palette images with Transparency expressed in bytes should be converted to RGBA images\n",
            "  warnings.warn(\n"
          ]
        },
        {
          "output_type": "stream",
          "name": "stdout",
          "text": [
            "25/25 [==============================] - 359s 14s/step - loss: 1.5053 - accuracy: 0.6989 - val_loss: 0.7386 - val_accuracy: 0.7136\n",
            "Epoch 2/3\n",
            "25/25 [==============================] - 247s 10s/step - loss: 0.3735 - accuracy: 0.8419 - val_loss: 0.4614 - val_accuracy: 0.7487\n",
            "Epoch 3/3\n",
            "25/25 [==============================] - 253s 10s/step - loss: 0.2827 - accuracy: 0.8883 - val_loss: 0.3291 - val_accuracy: 0.8693\n"
          ]
        }
      ]
    },
    {
      "cell_type": "code",
      "source": [
        "import matplotlib.pyplot as plt\n",
        "\n",
        "plt.plot(history.history['accuracy'],color='red',label='train')\n",
        "plt.plot(history.history['val_accuracy'],color='blue',label='validation')\n",
        "plt.legend()\n",
        "plt.show()"
      ],
      "metadata": {
        "colab": {
          "base_uri": "https://localhost:8080/",
          "height": 430
        },
        "id": "dOo_GE0k0VQS",
        "outputId": "0598362b-41ab-49fe-8bf9-ec8556209e3f"
      },
      "execution_count": 9,
      "outputs": [
        {
          "output_type": "display_data",
          "data": {
            "text/plain": [
              "<Figure size 640x480 with 1 Axes>"
            ],
            "image/png": "[encoded data removed]"
          },
          "metadata": {}
        }
      ]
    },
    {
      "cell_type": "code",
      "source": [
        "plt.plot(history.history['loss'],color='red',label='train')\n",
        "plt.plot(history.history['val_loss'],color='blue',label='validation')\n",
        "plt.legend()\n",
        "plt.show()"
      ],
      "metadata": {
        "colab": {
          "base_uri": "https://localhost:8080/",
          "height": 430
        },
        "id": "HVivbti80XcP",
        "outputId": "e09326f6-e544-4eb2-88cb-3e095196e0b1"
      },
      "execution_count": 10,
      "outputs": [
        {
          "output_type": "display_data",
          "data": {
            "text/plain": [
              "<Figure size 640x480 with 1 Axes>"
            ],
            "image/png": "[encoded data removed]"
          },
          "metadata": {}
        }
      ]
    },
    {
      "cell_type": "code",
      "source": [
        "from keras.preprocessing.image import ImageDataGenerator\n",
        "\n",
        "test_dir = '/content/drive/MyDrive/Dataset file/testing'\n",
        "\n",
        "test_datagen = ImageDataGenerator(rescale=1./255)\n",
        "test_data = test_datagen.flow_from_directory(\n",
        "    test_dir,\n",
        "    target_size=(256,256),\n",
        "    batch_size=32,\n",
        "    class_mode='binary'\n",
        ")"
      ],
      "metadata": {
        "colab": {
          "base_uri": "https://localhost:8080/"
        },
        "id": "S5_bPe7u0bkf",
        "outputId": "a26dd75e-5864-4b2a-e9ee-f2fff32c28ad"
      },
      "execution_count": 12,
      "outputs": [
        {
          "output_type": "stream",
          "name": "stdout",
          "text": [
            "Found 60 images belonging to 2 classes.\n"
          ]
        }
      ]
    },
    {
      "cell_type": "code",
      "source": [
        "predictions = resnet_model.predict(test_data)\n",
        "print(predictions)"
      ],
      "metadata": {
        "colab": {
          "base_uri": "https://localhost:8080/"
        },
        "id": "Q0ZUZ1x90uhF",
        "outputId": "e2574290-dced-4391-c290-568eea675dff"
      },
      "execution_count": 13,
      "outputs": [
        {
          "output_type": "stream",
          "name": "stdout",
          "text": [
            "2/2 [==============================] - 17s 6s/step\n",
            "[[1.3374406e-01]\n",
            " [6.3804217e-02]\n",
            " [9.9591511e-01]\n",
            " [4.2378329e-02]\n",
            " [8.9728296e-02]\n",
            " [1.3407589e-02]\n",
            " [9.9656987e-01]\n",
            " [9.6361643e-01]\n",
            " [2.1979489e-04]\n",
            " [1.7557167e-02]\n",
            " [9.4688451e-01]\n",
            " [9.9033511e-01]\n",
            " [7.4061472e-04]\n",
            " [2.1914601e-01]\n",
            " [8.6664718e-01]\n",
            " [7.8718818e-05]\n",
            " [8.6792207e-01]\n",
            " [2.3661744e-02]\n",
            " [9.5957917e-01]\n",
            " [8.3257121e-01]\n",
            " [6.3926995e-01]\n",
            " [8.3954537e-01]\n",
            " [3.8538896e-03]\n",
            " [9.0850472e-01]\n",
            " [9.7603732e-01]\n",
            " [4.6490449e-01]\n",
            " [2.4570836e-01]\n",
            " [9.9288327e-01]\n",
            " [3.2668442e-01]\n",
            " [9.4182402e-01]\n",
            " [1.3319972e-01]\n",
            " [9.9513763e-01]\n",
            " [2.1883559e-01]\n",
            " [7.2717494e-03]\n",
            " [8.5843389e-04]\n",
            " [7.3483288e-01]\n",
            " [9.1809303e-01]\n",
            " [5.4425472e-01]\n",
            " [8.0914646e-01]\n",
            " [9.8517787e-01]\n",
            " [3.0147014e-03]\n",
            " [6.0242116e-01]\n",
            " [4.5045090e-01]\n",
            " [9.3311626e-01]\n",
            " [6.7375183e-02]\n",
            " [9.2881399e-01]\n",
            " [9.2584603e-03]\n",
            " [8.7383610e-01]\n",
            " [1.2838376e-01]\n",
            " [1.6171838e-01]\n",
            " [9.5406231e-06]\n",
            " [1.3190724e-01]\n",
            " [3.1251076e-01]\n",
            " [5.5363184e-01]\n",
            " [4.5163870e-01]\n",
            " [9.2545122e-01]\n",
            " [6.8921870e-01]\n",
            " [9.3283200e-01]\n",
            " [9.5114779e-01]\n",
            " [9.9976206e-01]]\n"
          ]
        }
      ]
    },
    {
      "cell_type": "code",
      "source": [
        "len(predictions)"
      ],
      "metadata": {
        "colab": {
          "base_uri": "https://localhost:8080/"
        },
        "id": "wAoonfBj07fc",
        "outputId": "43b7c031-ff2b-40b0-a977-be57593dcbd0"
      },
      "execution_count": 14,
      "outputs": [
        {
          "output_type": "execute_result",
          "data": {
            "text/plain": [
              "60"
            ]
          },
          "metadata": {},
          "execution_count": 14
        }
      ]
    },
    {
      "cell_type": "code",
      "source": [
        "from sklearn.metrics import confusion_matrix, classification_report\n",
        "\n",
        "\n",
        "true_labels = test_data.classes\n",
        "predicted_labels = (predictions > 0.5).astype(int)\n",
        "\n",
        "\n",
        "cm = confusion_matrix(true_labels, predicted_labels)\n",
        "\n",
        "print(\"Confusion Matrix:\")\n",
        "print(cm)\n",
        "\n",
        "print(\"Classification Report:\")\n",
        "print(classification_report(true_labels, predicted_labels))"
      ],
      "metadata": {
        "colab": {
          "base_uri": "https://localhost:8080/"
        },
        "id": "naVieoVr1BFU",
        "outputId": "92fd187b-00bf-45f9-afcd-ed8233f7c42a"
      },
      "execution_count": 15,
      "outputs": [
        {
          "output_type": "stream",
          "name": "stdout",
          "text": [
            "Confusion Matrix:\n",
            "[[15 15]\n",
            " [14 16]]\n",
            "Classification Report:\n",
            "              precision    recall  f1-score   support\n",
            "\n",
            "           0       0.52      0.50      0.51        30\n",
            "           1       0.52      0.53      0.52        30\n",
            "\n",
            "    accuracy                           0.52        60\n",
            "   macro avg       0.52      0.52      0.52        60\n",
            "weighted avg       0.52      0.52      0.52        60\n",
            "\n"
          ]
        }
      ]
    }
  ]
}