{
  "nbformat": 4,
  "nbformat_minor": 0,
  "metadata": {
    "colab": {
      "provenance": []
    },
    "kernelspec": {
      "name": "python3",
      "display_name": "Python 3"
    },
    "language_info": {
      "name": "python"
    }
  },
  "cells": [
    {
      "cell_type": "code",
      "execution_count": 1,
      "metadata": {
        "colab": {
          "base_uri": "https://localhost:8080/"
        },
        "id": "S6sF6kvHAxU4",
        "outputId": "94fabcda-383a-4ed6-d9c5-a97ed80c206a"
      },
      "outputs": [
        {
          "output_type": "stream",
          "name": "stdout",
          "text": [
            "Mounted at /content/drive\n"
          ]
        }
      ],
      "source": [
        "from google.colab import drive\n",
        "drive.mount('/content/drive', force_remount=True)"
      ]
    },
    {
      "cell_type": "code",
      "source": [
        "train_dir = '/content/drive/MyDrive/training'\n",
        "test_dir = '/content/drive/MyDrive/testing'"
      ],
      "metadata": {
        "id": "Z9M0S7WwBGUw"
      },
      "execution_count": 3,
      "outputs": []
    },
    {
      "cell_type": "code",
      "source": [
        "import os\n",
        "print(len(os.listdir('/content/drive/MyDrive/Dataset file/training/cars')))\n",
        "print(len(os.listdir('/content/drive/MyDrive/Dataset file/training/bike')))\n",
        "print(len(os.listdir('/content/drive/MyDrive/Dataset file/testing/cars')))\n",
        "print(len(os.listdir('/content/drive/MyDrive/Dataset file/testing/bike')))"
      ],
      "metadata": {
        "colab": {
          "base_uri": "https://localhost:8080/"
        },
        "id": "_b7--EC9BIHH",
        "outputId": "e1ccd8b6-99d4-4d45-a3e0-7836e45a3a40"
      },
      "execution_count": 6,
      "outputs": [
        {
          "output_type": "stream",
          "name": "stdout",
          "text": [
            "500\n",
            "448\n",
            "1\n",
            "1\n"
          ]
        }
      ]
    },
    {
      "cell_type": "code",
      "source": [
        "import tensorflow as tf\n",
        "from tensorflow.keras.preprocessing.image import ImageDataGenerator\n",
        "train_dir = '/content/drive/MyDrive/Dataset file/training'\n",
        "\n",
        "\n",
        "train_datagen = ImageDataGenerator(\n",
        "    rescale=1./255,\n",
        "    validation_split=0.2\n",
        ")\n",
        "\n",
        "\n",
        "train_data = train_datagen.flow_from_directory(\n",
        "    train_dir,\n",
        "    target_size=(256,256),\n",
        "    batch_size=32,\n",
        "    class_mode='binary',\n",
        "    subset='training'\n",
        ")\n",
        "\n",
        "validation_datagen = ImageDataGenerator(\n",
        "    rescale=1./255,\n",
        "    validation_split=0.2\n",
        ")\n",
        "\n",
        "validation_data = validation_datagen.flow_from_directory(\n",
        "    train_dir,\n",
        "    target_size=(256,256),\n",
        "    batch_size=32,\n",
        "    class_mode='binary',\n",
        "    subset='validation'\n",
        ")"
      ],
      "metadata": {
        "colab": {
          "base_uri": "https://localhost:8080/"
        },
        "id": "sPBXYLgUCOuA",
        "outputId": "4405a244-fb45-4ab5-b247-337a8ddfc8da"
      },
      "execution_count": 8,
      "outputs": [
        {
          "output_type": "stream",
          "name": "stdout",
          "text": [
            "Found 797 images belonging to 2 classes.\n",
            "Found 199 images belonging to 2 classes.\n"
          ]
        }
      ]
    },
    {
      "cell_type": "code",
      "source": [
        "from tensorflow import keras\n",
        "from keras import Sequential\n",
        "from keras.layers import Dense,Conv2D,MaxPooling2D,Flatten,BatchNormalization,UpSampling2D, Dropout"
      ],
      "metadata": {
        "id": "AMPiTfiBCrxa"
      },
      "execution_count": 9,
      "outputs": []
    },
    {
      "cell_type": "code",
      "source": [
        "\n",
        "\n",
        "model = Sequential()\n",
        "\n",
        "model.add(Conv2D(32,kernel_size=(3,3),padding='valid',activation='relu',input_shape=(256,256,3)))\n",
        "\n",
        "model.add(MaxPooling2D(pool_size=(2,2),strides=2,padding='valid'))\n",
        "\n",
        "model.add(Conv2D(64,kernel_size=(3,3),padding='valid',activation='relu'))\n",
        "\n",
        "model.add(MaxPooling2D(pool_size=(2,2),strides=2,padding='valid'))\n",
        "\n",
        "model.add(Conv2D(128,kernel_size=(3,3),padding='valid',activation='relu'))\n",
        "\n",
        "model.add(MaxPooling2D(pool_size=(2,2),strides=2,padding='valid'))\n",
        "\n",
        "model.add(Flatten())\n",
        "\n",
        "model.add(Dense(128,activation='relu'))\n",
        "\n",
        "model.add(Dense(64,activation='relu'))\n",
        "\n",
        "model.add(Dense(1,activation='sigmoid'))"
      ],
      "metadata": {
        "id": "ZXCh8kxFC5wX"
      },
      "execution_count": 10,
      "outputs": []
    },
    {
      "cell_type": "code",
      "source": [
        "from keras.optimizers import Adam\n",
        "model.compile(optimizer=Adam(learning_rate=0.001),loss='binary_crossentropy',metrics=['accuracy'])"
      ],
      "metadata": {
        "id": "HDM-pNqgDD-_"
      },
      "execution_count": 11,
      "outputs": []
    },
    {
      "cell_type": "code",
      "source": [
        "history = model.fit(train_data, epochs=30, validation_data=validation_data)"
      ],
      "metadata": {
        "colab": {
          "base_uri": "https://localhost:8080/"
        },
        "id": "CPxU6PYODMOf",
        "outputId": "676cbd8e-380b-4100-8b79-5ca78136c5f7"
      },
      "execution_count": 12,
      "outputs": [
        {
          "output_type": "stream",
          "name": "stdout",
          "text": [
            "Epoch 1/30\n",
            " 6/25 [======>.......................] - ETA: 2:14 - loss: 1.8803 - accuracy: 0.4583"
          ]
        },
        {
          "output_type": "stream",
          "name": "stderr",
          "text": [
            "/usr/local/lib/python3.10/dist-packages/PIL/Image.py:996: UserWarning: Palette images with Transparency expressed in bytes should be converted to RGBA images\n",
            "  warnings.warn(\n"
          ]
        },
        {
          "output_type": "stream",
          "name": "stdout",
          "text": [
            "25/25 [==============================] - 288s 11s/step - loss: 0.9678 - accuracy: 0.5546 - val_loss: 0.6356 - val_accuracy: 0.5126\n",
            "Epoch 2/30\n",
            "25/25 [==============================] - 125s 5s/step - loss: 0.4732 - accuracy: 0.7616 - val_loss: 0.5382 - val_accuracy: 0.7387\n",
            "Epoch 3/30\n",
            "25/25 [==============================] - 122s 5s/step - loss: 0.2851 - accuracy: 0.8783 - val_loss: 0.3432 - val_accuracy: 0.8392\n",
            "Epoch 4/30\n",
            "25/25 [==============================] - 129s 5s/step - loss: 0.1430 - accuracy: 0.9448 - val_loss: 0.2726 - val_accuracy: 0.8794\n",
            "Epoch 5/30\n",
            "25/25 [==============================] - 123s 5s/step - loss: 0.0676 - accuracy: 0.9749 - val_loss: 0.2573 - val_accuracy: 0.9146\n",
            "Epoch 6/30\n",
            "25/25 [==============================] - 122s 5s/step - loss: 0.0208 - accuracy: 0.9950 - val_loss: 0.3346 - val_accuracy: 0.8945\n",
            "Epoch 7/30\n",
            "25/25 [==============================] - 125s 5s/step - loss: 0.0092 - accuracy: 0.9987 - val_loss: 0.3008 - val_accuracy: 0.9196\n",
            "Epoch 8/30\n",
            "25/25 [==============================] - 122s 5s/step - loss: 0.0044 - accuracy: 1.0000 - val_loss: 0.5270 - val_accuracy: 0.8693\n",
            "Epoch 9/30\n",
            "25/25 [==============================] - 135s 5s/step - loss: 0.0045 - accuracy: 1.0000 - val_loss: 0.7108 - val_accuracy: 0.8643\n",
            "Epoch 10/30\n",
            "25/25 [==============================] - 121s 5s/step - loss: 0.0026 - accuracy: 1.0000 - val_loss: 0.4711 - val_accuracy: 0.8945\n",
            "Epoch 11/30\n",
            "25/25 [==============================] - 124s 5s/step - loss: 6.8607e-04 - accuracy: 1.0000 - val_loss: 0.3993 - val_accuracy: 0.9095\n",
            "Epoch 12/30\n",
            "25/25 [==============================] - 122s 5s/step - loss: 3.1534e-04 - accuracy: 1.0000 - val_loss: 0.4247 - val_accuracy: 0.9045\n",
            "Epoch 13/30\n",
            "25/25 [==============================] - 121s 5s/step - loss: 2.3784e-04 - accuracy: 1.0000 - val_loss: 0.4913 - val_accuracy: 0.8995\n",
            "Epoch 14/30\n",
            "25/25 [==============================] - 134s 5s/step - loss: 1.4908e-04 - accuracy: 1.0000 - val_loss: 0.4693 - val_accuracy: 0.9045\n",
            "Epoch 15/30\n",
            "25/25 [==============================] - 122s 5s/step - loss: 1.2366e-04 - accuracy: 1.0000 - val_loss: 0.4914 - val_accuracy: 0.8995\n",
            "Epoch 16/30\n",
            "25/25 [==============================] - 124s 5s/step - loss: 1.0279e-04 - accuracy: 1.0000 - val_loss: 0.4805 - val_accuracy: 0.8995\n",
            "Epoch 17/30\n",
            "25/25 [==============================] - 121s 5s/step - loss: 9.0520e-05 - accuracy: 1.0000 - val_loss: 0.4976 - val_accuracy: 0.8995\n",
            "Epoch 18/30\n",
            "25/25 [==============================] - 136s 5s/step - loss: 7.7261e-05 - accuracy: 1.0000 - val_loss: 0.5010 - val_accuracy: 0.8995\n",
            "Epoch 19/30\n",
            "25/25 [==============================] - 122s 5s/step - loss: 6.7033e-05 - accuracy: 1.0000 - val_loss: 0.5106 - val_accuracy: 0.8945\n",
            "Epoch 20/30\n",
            "25/25 [==============================] - 123s 5s/step - loss: 5.9226e-05 - accuracy: 1.0000 - val_loss: 0.5118 - val_accuracy: 0.8945\n",
            "Epoch 21/30\n",
            "25/25 [==============================] - 121s 5s/step - loss: 5.3092e-05 - accuracy: 1.0000 - val_loss: 0.5233 - val_accuracy: 0.8995\n",
            "Epoch 22/30\n",
            "25/25 [==============================] - 121s 5s/step - loss: 4.8814e-05 - accuracy: 1.0000 - val_loss: 0.4980 - val_accuracy: 0.9045\n",
            "Epoch 23/30\n",
            "25/25 [==============================] - 123s 5s/step - loss: 4.2501e-05 - accuracy: 1.0000 - val_loss: 0.5222 - val_accuracy: 0.8945\n",
            "Epoch 24/30\n",
            "25/25 [==============================] - 121s 5s/step - loss: 3.7907e-05 - accuracy: 1.0000 - val_loss: 0.5293 - val_accuracy: 0.8945\n",
            "Epoch 25/30\n",
            "25/25 [==============================] - 123s 5s/step - loss: 3.4316e-05 - accuracy: 1.0000 - val_loss: 0.5204 - val_accuracy: 0.9045\n",
            "Epoch 26/30\n",
            "25/25 [==============================] - 121s 5s/step - loss: 3.1353e-05 - accuracy: 1.0000 - val_loss: 0.5329 - val_accuracy: 0.9045\n",
            "Epoch 27/30\n",
            "25/25 [==============================] - 124s 5s/step - loss: 2.9212e-05 - accuracy: 1.0000 - val_loss: 0.5279 - val_accuracy: 0.9045\n",
            "Epoch 28/30\n",
            "25/25 [==============================] - 122s 5s/step - loss: 2.5819e-05 - accuracy: 1.0000 - val_loss: 0.5446 - val_accuracy: 0.9045\n",
            "Epoch 29/30\n",
            "25/25 [==============================] - 121s 5s/step - loss: 2.4287e-05 - accuracy: 1.0000 - val_loss: 0.5534 - val_accuracy: 0.8945\n",
            "Epoch 30/30\n",
            "25/25 [==============================] - 123s 5s/step - loss: 2.2383e-05 - accuracy: 1.0000 - val_loss: 0.5653 - val_accuracy: 0.8995\n"
          ]
        }
      ]
    },
    {
      "cell_type": "code",
      "source": [
        "import matplotlib.pyplot as plt\n",
        "plt.plot(history.history['accuracy'],color='red',label='train')\n",
        "plt.plot(history.history['val_accuracy'],color='blue',label='validation')\n",
        "plt.legend()\n",
        "plt.show()"
      ],
      "metadata": {
        "colab": {
          "base_uri": "https://localhost:8080/",
          "height": 430
        },
        "id": "vCizKXPkSn0B",
        "outputId": "ef903ad9-5478-429c-88c2-2f8eae867939"
      },
      "execution_count": 13,
      "outputs": [
        {
          "output_type": "display_data",
          "data": {
            "text/plain": [
              "<Figure size 640x480 with 1 Axes>"
            ],
            "image/png": "[encoded data removed]"
          },
          "metadata": {}
        }
      ]
    },
    {
      "cell_type": "code",
      "source": [
        "plt.plot(history.history['loss'],color='red',label='train')\n",
        "plt.plot(history.history['val_loss'],color='blue',label='validation')\n",
        "plt.legend()\n",
        "plt.show()"
      ],
      "metadata": {
        "colab": {
          "base_uri": "https://localhost:8080/",
          "height": 430
        },
        "id": "3YaI3AoSSu_4",
        "outputId": "560e0535-7800-40be-8e7f-c70b0e04f578"
      },
      "execution_count": 14,
      "outputs": [
        {
          "output_type": "display_data",
          "data": {
            "text/plain": [
              "<Figure size 640x480 with 1 Axes>"
            ],
            "image/png": "[encoded data removed]"
          },
          "metadata": {}
        }
      ]
    },
    {
      "cell_type": "code",
      "source": [
        "from keras.preprocessing.image import ImageDataGenerator\n",
        "\n",
        "test_dir = '/content/drive/MyDrive/Dataset file/testing'\n",
        "\n",
        "test_datagen = ImageDataGenerator(rescale=1./255)\n",
        "test_data = test_datagen.flow_from_directory(\n",
        "    test_dir,\n",
        "    target_size=(256,256),\n",
        "    batch_size=32,\n",
        "    class_mode='binary'\n",
        ")"
      ],
      "metadata": {
        "colab": {
          "base_uri": "https://localhost:8080/"
        },
        "id": "nyj4XOCuS1Yg",
        "outputId": "4b297b8f-95a0-474d-94eb-0b7d9732ee58"
      },
      "execution_count": 23,
      "outputs": [
        {
          "output_type": "stream",
          "name": "stdout",
          "text": [
            "Found 60 images belonging to 2 classes.\n"
          ]
        }
      ]
    },
    {
      "cell_type": "code",
      "source": [
        "predictions = model.predict(test_data)\n",
        "print(predictions)"
      ],
      "metadata": {
        "colab": {
          "base_uri": "https://localhost:8080/"
        },
        "id": "x_MVwUhUVdim",
        "outputId": "0335d7ec-65b1-4fb3-9587-f2de2cc3cb63"
      },
      "execution_count": 24,
      "outputs": [
        {
          "output_type": "stream",
          "name": "stdout",
          "text": [
            "2/2 [==============================] - 9s 7s/step\n",
            "[[9.9995643e-01]\n",
            " [1.5820664e-09]\n",
            " [1.6079991e-08]\n",
            " [9.9999857e-01]\n",
            " [9.9992144e-01]\n",
            " [7.6991231e-09]\n",
            " [5.1369933e-13]\n",
            " [3.5215841e-08]\n",
            " [9.9999487e-01]\n",
            " [1.1550695e-09]\n",
            " [3.4536627e-06]\n",
            " [8.9473361e-01]\n",
            " [3.3652616e-13]\n",
            " [2.2015660e-12]\n",
            " [9.9997878e-01]\n",
            " [1.0000000e+00]\n",
            " [4.4256493e-07]\n",
            " [2.3448526e-11]\n",
            " [5.1227996e-08]\n",
            " [1.0000000e+00]\n",
            " [1.0000000e+00]\n",
            " [1.0000000e+00]\n",
            " [9.9996263e-01]\n",
            " [2.7727109e-14]\n",
            " [9.9999392e-01]\n",
            " [9.9999988e-01]\n",
            " [1.6925296e-11]\n",
            " [1.0000000e+00]\n",
            " [9.9998063e-01]\n",
            " [1.4275518e-11]\n",
            " [2.5904301e-08]\n",
            " [2.6379383e-04]\n",
            " [1.9495638e-09]\n",
            " [9.9999976e-01]\n",
            " [6.5318098e-05]\n",
            " [4.8088306e-01]\n",
            " [9.9913365e-01]\n",
            " [1.5097470e-14]\n",
            " [2.1194762e-08]\n",
            " [1.0000000e+00]\n",
            " [1.0000000e+00]\n",
            " [4.7567031e-08]\n",
            " [1.0000000e+00]\n",
            " [3.6468305e-06]\n",
            " [5.1635512e-11]\n",
            " [8.5782158e-01]\n",
            " [3.1352314e-01]\n",
            " [9.9999756e-01]\n",
            " [9.9999994e-01]\n",
            " [9.9999553e-01]\n",
            " [9.9992019e-01]\n",
            " [9.9999982e-01]\n",
            " [3.9830474e-12]\n",
            " [9.7075337e-10]\n",
            " [1.4201971e-02]\n",
            " [1.0000000e+00]\n",
            " [9.5883915e-06]\n",
            " [9.9995565e-01]\n",
            " [9.9999994e-01]\n",
            " [4.2276556e-13]]\n"
          ]
        }
      ]
    },
    {
      "cell_type": "code",
      "source": [
        "len(predictions)"
      ],
      "metadata": {
        "colab": {
          "base_uri": "https://localhost:8080/"
        },
        "id": "5mX_nwpwVqGU",
        "outputId": "e78c86c3-e0a8-49a9-d74d-48acf7bc5d44"
      },
      "execution_count": 25,
      "outputs": [
        {
          "output_type": "execute_result",
          "data": {
            "text/plain": [
              "60"
            ]
          },
          "metadata": {},
          "execution_count": 25
        }
      ]
    },
    {
      "cell_type": "code",
      "source": [
        "from sklearn.metrics import confusion_matrix, classification_report\n",
        "\n",
        "\n",
        "true_labels = test_data.classes\n",
        "predicted_labels = (predictions > 0.5).astype(int)\n",
        "\n",
        "cm = confusion_matrix(true_labels, predicted_labels)\n",
        "\n",
        "print(\"Confusion Matrix:\")\n",
        "print(cm)\n",
        "\n",
        "print(\"Classification Report:\")\n",
        "print(classification_report(true_labels, predicted_labels))"
      ],
      "metadata": {
        "colab": {
          "base_uri": "https://localhost:8080/"
        },
        "id": "-2fSWTx3Vtkk",
        "outputId": "67b52d45-7f91-4e42-8af6-a96dc9041180"
      },
      "execution_count": 26,
      "outputs": [
        {
          "output_type": "stream",
          "name": "stdout",
          "text": [
            "Confusion Matrix:\n",
            "[[15 15]\n",
            " [16 14]]\n",
            "Classification Report:\n",
            "              precision    recall  f1-score   support\n",
            "\n",
            "           0       0.48      0.50      0.49        30\n",
            "           1       0.48      0.47      0.47        30\n",
            "\n",
            "    accuracy                           0.48        60\n",
            "   macro avg       0.48      0.48      0.48        60\n",
            "weighted avg       0.48      0.48      0.48        60\n",
            "\n"
          ]
        }
      ]
    }
  ]
}